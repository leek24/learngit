{
 "cells": [
  {
   "cell_type": "markdown",
   "metadata": {},
   "source": [
    "try for linear model"
   ]
  },
  {
   "cell_type": "code",
   "execution_count": 9,
   "metadata": {},
   "outputs": [
    {
     "name": "stdout",
     "output_type": "stream",
     "text": [
      "0 [[0.31936622 0.1710477 ]] [0.2798311]\n",
      "40 [[0.11682607 0.20564488]] [0.28765327]\n",
      "80 [[0.10216001 0.20167579]] [0.29791236]\n",
      "120 [[0.10033571 0.20031859]] [0.29964483]\n",
      "160 [[0.10005576 0.20005585]] [0.29993945]\n",
      "200 [[0.10000946 0.20000961]] [0.29998964]\n"
     ]
    }
   ],
   "source": [
    "import tensorflow as tf\n",
    "import numpy as np\n",
    "\n",
    "x_data = np.float32(np.random.rand(2, 200))\n",
    "y_data = np.dot([0.100, 0.200], x_data) + 0.300\n",
    "\n",
    "b = tf.Variable(tf.zeros([1]))\n",
    "w = tf.Variable(tf.random_uniform([1, 2], -1, 1))\n",
    "y = tf.matmul(w, x_data) + b\n",
    "\n",
    "loss = tf.reduce_mean(tf.square(y - y_data))\n",
    "optimizor = tf.train.GradientDescentOptimizer(0.4)\n",
    "train = optimizor.minimize(loss)\n",
    "\n",
    "init = tf.initialize_all_variables()\n",
    "\n",
    "sess = tf.InteractiveSession()\n",
    "sess.run(init)\n",
    "\n",
    "for step in range(201):\n",
    "    sess.run(train)\n",
    "    if step%40 == 0:\n",
    "        print(step, sess.run(w), sess.run(b))\n",
    "    "
   ]
  },
  {
   "cell_type": "markdown",
   "metadata": {},
   "source": [
    "MNIST train learning"
   ]
  },
  {
   "cell_type": "code",
   "execution_count": null,
   "metadata": {
    "collapsed": true
   },
   "outputs": [],
   "source": [
    "import input_data\n",
    "\n",
    "#import data\n",
    "mnist = input_data.read_data_sets('MNIST_data/', one_hot = True)\n",
    "\n",
    "#create regression model\n",
    "x = tf.placeholder('float', [None, 784])\n",
    "w = tf.Variable(tf.zeros([784, 10]))\n",
    "b = tf.Variable(tf.zeros([10]))\n",
    "\n",
    "y = tf.nn.softmax(tf.matmul(x, w) + b)\n",
    "\n",
    "#create train model\n",
    "y_ = tf.placeholder('float', [None, 10])\n",
    "cross_entropy = -tf.reduce_sum(y_*tf.log(y))\n",
    "\n",
    "train_step = tf.train.GradientDescentOptimizer(0.008).minimize(cross_entropy)\n",
    "\n",
    "init = tf.initialize_all_variables()\n",
    "\n",
    "session = tf.Session()\n",
    "session.run(init)\n",
    "\n",
    "for step in range(3000):\n",
    "    batch_xs, batch_ys = mnist.train.next_batch(100)\n",
    "    if step%200 == 0:\n",
    "        print('step: ', step)\n",
    "    session.run(train_step, feed_dict={x: batch_xs, y_: batch_ys})\n",
    "    \n",
    "#evaluate model\n",
    "correct_prediction = tf.equal(tf.argmax(y, 1), tf.argmax(y_, 1))\n",
    "accuracy = tf.reduce_mean(tf.cast(correct_prediction, 'float'))\n",
    "\n",
    "print(session.run(accuracy, feed_dict={x: mnist.test.images, y_: mnist.test.labels}))"
   ]
  },
  {
   "cell_type": "markdown",
   "metadata": {},
   "source": [
    "MNIST train pro"
   ]
  },
  {
   "cell_type": "code",
   "execution_count": null,
   "metadata": {
    "collapsed": true
   },
   "outputs": [],
   "source": [
    "#import input_data\n",
    "mnist = input_data.read_data_sets('MNIST_data', one_hot=True)\n",
    "\n",
    "import tensorflow as tf\n",
    "sess = tf.InteractiveSession()\n",
    "\n",
    "\n",
    "\n"
   ]
  }
 ],
 "metadata": {
  "kernelspec": {
   "display_name": "Python 3",
   "language": "python",
   "name": "python3"
  },
  "language_info": {
   "codemirror_mode": {
    "name": "ipython",
    "version": 3
   },
   "file_extension": ".py",
   "mimetype": "text/x-python",
   "name": "python",
   "nbconvert_exporter": "python",
   "pygments_lexer": "ipython3",
   "version": "3.6.3"
  }
 },
 "nbformat": 4,
 "nbformat_minor": 2
}
